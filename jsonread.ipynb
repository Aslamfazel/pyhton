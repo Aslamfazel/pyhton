{
  "nbformat": 4,
  "nbformat_minor": 0,
  "metadata": {
    "colab": {
      "name": "Untitled5.ipynb",
      "provenance": []
    },
    "kernelspec": {
      "name": "python3",
      "display_name": "Python 3"
    },
    "language_info": {
      "name": "python"
    }
  },
  "cells": [
    {
      "cell_type": "code",
      "execution_count": 5,
      "metadata": {
        "colab": {
          "base_uri": "https://localhost:8080/"
        },
        "id": "BZBeMbDcmtsw",
        "outputId": "b1e752c3-043c-4db3-b92b-e7e19cee8adb"
      },
      "outputs": [
        {
          "output_type": "stream",
          "name": "stdout",
          "text": [
            "the decimal  675 is\n",
            "0b1010100011 is the binary\n",
            "0o1243 is the octal\n",
            "0x2a3 is the hex\n"
          ]
        }
      ],
      "source": [
        "dec = 675\n",
        "print(\"the decimal \",dec,\"is\")\n",
        "print(bin(dec) ,\"is the binary\")\n",
        "print(oct(dec),\"is the octal\")\n",
        "print(hex(dec)\n",
        ",\"is the hex\")\n"
      ]
    },
    {
      "cell_type": "code",
      "source": [
        "f=open(\"tlauncher_profiles.json\")"
      ],
      "metadata": {
        "id": "jSjWgoqMzZ6e"
      },
      "execution_count": 9,
      "outputs": []
    },
    {
      "cell_type": "code",
      "source": [
        "print(f.read())"
      ],
      "metadata": {
        "colab": {
          "base_uri": "https://localhost:8080/"
        },
        "id": "FALjPHU24hV1",
        "outputId": "f02128db-1dff-46b8-b80d-85d23b4d7010"
      },
      "execution_count": 11,
      "outputs": [
        {
          "output_type": "stream",
          "name": "stdout",
          "text": [
            "\"userSet\": {\n",
            "    \"selected\": {\n",
            "      \"username\": \"loki odinson\",\n",
            "      \"type\": \"plain\"\n",
            "    },\n",
            "    \"list\": [\n",
            "      {\n",
            "        \"username\": \"loki odinson\",\n",
            "        \"uuid\": \"9aa5a294002d354188b53781bf5e067b\",\n",
            "        \"type\": \"plain\"\n",
            "      }\n",
            "    ]\n",
            "  }\n",
            "}\n"
          ]
        }
      ]
    }
  ]
}