{
  "nbformat": 4,
  "nbformat_minor": 0,
  "metadata": {
    "colab": {
      "name": "Untitled5.ipynb",
      "provenance": []
    },
    "kernelspec": {
      "name": "python3",
      "display_name": "Python 3"
    },
    "language_info": {
      "name": "python"
    }
  },
  "cells": [
    {
      "cell_type": "code",
      "execution_count": 5,
      "metadata": {
        "colab": {
          "base_uri": "https://localhost:8080/"
        },
        "id": "BZBeMbDcmtsw",
        "outputId": "b1e752c3-043c-4db3-b92b-e7e19cee8adb"
      },
      "outputs": [
        {
          "output_type": "stream",
          "name": "stdout",
          "text": [
            "the decimal  675 is\n",
            "0b1010100011 is the binary\n",
            "0o1243 is the octal\n",
            "0x2a3 is the hex\n"
          ]
        }
      ],
      "source": [
        "dec = 675\n",
        "print(\"the decimal \",dec,\"is\")\n",
        "print(bin(dec) ,\"is the binary\")\n",
        "print(oct(dec),\"is the octal\")\n",
        "print(hex(dec)\n",
        ",\"is the hex\")\n"
      ]
    }
  ]
}